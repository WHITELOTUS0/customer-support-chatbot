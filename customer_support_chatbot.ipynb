{
  "nbformat": 4,
  "nbformat_minor": 0,
  "metadata": {
    "colab": {
      "provenance": []
    },
    "kernelspec": {
      "name": "python3",
      "display_name": "Python 3"
    },
    "language_info": {
      "name": "python"
    }
  },
  "cells": [
    {
      "cell_type": "markdown",
      "source": [
        "# Build a Customer Support Question Answering Chatbot\n",
        "\n",
        "First we scrape some content from online articles, we split them into small chunks, compute their embeddings and store them in Deep Lake. Then, we use a user query to retrieve the most relevant chunks from Deep Lake, we put them into a prompt, which will be used to generate the final answer by the LLM.\n",
        "\n",
        "It is important to note that there is always a risk of generating hallucinations or false information when using LLMs. Although this might not be acceptable for many customers support use cases, the chatbot can still be helpful for assisting operators in drafting answers that they can double-check before sending them to the user.\n",
        "\n",
        "In the next steps, we'll explore how to manage conversations with GPT-3 and provide examples to demonstrate the effectiveness of this workflow:\n",
        "\n",
        "First, set up the `OPENAI_API_KEY` and `ACTIVELOOP_TOKEN` environment variables with your API keys and tokens.\n",
        "\n",
        "As we’re going to use the SeleniumURLLoader LangChain class, and it uses the unstructured and selenium Python library, let’s install it using pip. It is recommended to install the latest version of the library. Nonetheless, please be aware that the code has been tested specifically on version `0.7.7`."
      ],
      "metadata": {
        "id": "4BYv-Ob1jUdA"
      }
    },
    {
      "cell_type": "code",
      "execution_count": null,
      "metadata": {
        "id": "VyW13Ow3YeYw"
      },
      "outputs": [],
      "source": [
        "%pip install unstructured selenium\n",
        "%pip install langchain==0.0.208 deeplake==3.9.27 openai==0.27.8 tiktoken"
      ]
    },
    {
      "cell_type": "code",
      "source": [
        "import os\n",
        "from google.colab import userdata\n",
        "from langchain.embeddings.openai import OpenAIEmbeddings\n",
        "from langchain.vectorstores import DeepLake\n",
        "from langchain.text_splitter import CharacterTextSplitter\n",
        "from langchain import OpenAI\n",
        "from langchain.document_loaders import SeleniumURLLoader\n",
        "from langchain import PromptTemplate\n",
        "\n",
        "os.environ['OPENAI_API_KEY'] = userdata.get('OPENAI_API_KEY')\n",
        "activeloop_token = userdata.get('ACTIVELOOP_TOKEN')\n",
        "os.environ[\"ACTIVELOOP_TOKEN\"] = activeloop_token"
      ],
      "metadata": {
        "id": "OTzwNiE9kMxO"
      },
      "execution_count": 4,
      "outputs": []
    },
    {
      "cell_type": "markdown",
      "source": [
        "The database for our chatbot will consist of articles regarding technical issues."
      ],
      "metadata": {
        "id": "A48k9emhklGF"
      }
    },
    {
      "cell_type": "code",
      "source": [
        "# we'll use information from the following articles\n",
        "urls = ['https://beebom.com/what-is-nft-explained/',\n",
        "        'https://beebom.com/how-delete-spotify-account/',\n",
        "        'https://beebom.com/how-download-gif-twitter/',\n",
        "        'https://beebom.com/how-use-chatgpt-linux-terminal/',\n",
        "        'https://beebom.com/how-delete-spotify-account/',\n",
        "        'https://beebom.com/how-save-instagram-story-with-music/',\n",
        "        'https://beebom.com/how-install-pip-windows/',\n",
        "        'https://beebom.com/how-check-disk-usage-linux/']"
      ],
      "metadata": {
        "id": "6ioqqxSbknl6"
      },
      "execution_count": 2,
      "outputs": []
    },
    {
      "cell_type": "markdown",
      "source": [
        "### 1: Split the documents into chunks and compute their embeddings\n",
        "We load the documents from the provided URLs and split them into chunks using the `CharacterTextSplitter` with a chunk size of 1000 and no overlap:\n"
      ],
      "metadata": {
        "id": "Ao3JHqD3kxKn"
      }
    },
    {
      "cell_type": "code",
      "source": [
        "# use the selenium scraper to load the documents\n",
        "loader = SeleniumURLLoader(urls=urls)\n",
        "docs_not_splitted = loader.load()\n",
        "\n",
        "# we split the documents into smaller chunks\n",
        "text_splitter = CharacterTextSplitter(chunk_size=1000, chunk_overlap=0)\n",
        "docs = text_splitter.split_documents(docs_not_splitted)"
      ],
      "metadata": {
        "id": "xBbmTN-zk1sT"
      },
      "execution_count": 3,
      "outputs": []
    },
    {
      "cell_type": "markdown",
      "source": [
        "Next, we compute the embeddings using `OpenAIEmbeddings` and store them in a Deep Lake vector store on the cloud. In an ideal production scenario, we could upload a whole website or course lesson on a Deep Lake dataset, allowing for search among even thousands or millions of documents. As we are using a cloud serverless Deep Lake dataset, applications running on different locations can easily access the same centralized dataset without the need of deploying a vector store on a custom machine.\n",
        "\n",
        "Let’s now modify the following code by adding your Activeloop organization ID. It worth noting that the org id is your username by default."
      ],
      "metadata": {
        "id": "Ertx6LxZlQxR"
      }
    },
    {
      "cell_type": "code",
      "source": [
        "# Before executing the following code, make sure to have\n",
        "# your OpenAI key saved in the “OPENAI_API_KEY” environment variable.\n",
        "embeddings = OpenAIEmbeddings(model=\"text-embedding-ada-002\")\n",
        "\n",
        "# create Deep Lake dataset\n",
        "# TODO: use your organization id here. (by default, org id is your username)\n",
        "activeloop_org_id = userdata.get('ACTIVELOOP_ORG_ID')\n",
        "os.environ[\"ACTIVELOOP_ORG_ID\"] = activeloop_org_id\n",
        "my_activeloop_org_id = activeloop_org_id\n",
        "my_activeloop_dataset_name = \"langchain_course_customer_support\"\n",
        "dataset_path = f\"hub://{my_activeloop_org_id}/{my_activeloop_dataset_name}\"\n",
        "db = DeepLake(dataset_path=dataset_path, embedding_function=embeddings)\n",
        "\n",
        "# add documents to our Deep Lake dataset\n",
        "db.add_documents(docs)"
      ],
      "metadata": {
        "id": "bJRLqfDhlT5O"
      },
      "execution_count": null,
      "outputs": []
    },
    {
      "cell_type": "markdown",
      "source": [
        "To retrieve the most similar chunks to a given query, we can use the `similarity_search` method of the Deep Lake vector store:"
      ],
      "metadata": {
        "id": "o9JySPClmusD"
      }
    },
    {
      "cell_type": "code",
      "source": [
        "# let's see the top relevant documents to a specific query\n",
        "query = \"how to check disk usage in linux?\"\n",
        "docs = db.similarity_search(query)\n",
        "print(docs[0].page_content)"
      ],
      "metadata": {
        "colab": {
          "base_uri": "https://localhost:8080/"
        },
        "id": "ViztBxXNmxbz",
        "outputId": "8139d747-d039-4ddd-86a8-60b64b802b6a"
      },
      "execution_count": 6,
      "outputs": [
        {
          "output_type": "stream",
          "name": "stdout",
          "text": [
            "Home > Tech > How to Check Disk Usage in Linux (4 Methods)\n",
            "\n",
            "How to Check Disk Usage in Linux (4 Methods)\n",
            "\n",
            "Beebom Staff\n",
            "\n",
            "Updated: December 19, 2023\n",
            "\n",
            "Comments 0\n",
            "\n",
            "Share\n",
            "\n",
            "Copied\n",
            "\n",
            "There may be times when you need to download some important files or transfer some photos to your Linux system, but face a problem of insufficient disk space. You head over to your file manager to delete the large files which you no longer require, but you have no clue which of them are occupying most of your disk space. In this article, we will show some easy methods to check disk usage in Linux from both the terminal and the GUI application.\n",
            "\n",
            "Table of Contents\n",
            "\n",
            "Check Disk Space Using the df Command\n",
            "\n",
            "In Linux, there are many commands to check disk usage, the most common being the df command. The df stands for “Disk Filesystem” in the command, which is a handy way to check the current disk usage and the available disk space in Linux. The syntax for the df command in Linux is as follows:\n",
            "\n",
            "df <options> <file_system>\n"
          ]
        }
      ]
    },
    {
      "cell_type": "markdown",
      "source": [
        "### 2: Craft a prompt for GPT-3 using the suggested strategies\n",
        "We will create a prompt template that incorporates role-prompting, relevant Knowledge Base information, and the user's question:"
      ],
      "metadata": {
        "id": "YMf8GhfKnJZE"
      }
    },
    {
      "cell_type": "code",
      "source": [
        "# let's write a prompt for a customer support chatbot that\n",
        "# answer questions using information extracted from our db\n",
        "template = \"\"\"You are an exceptional customer support chatbot that gently answer questions.\n",
        "\n",
        "You know the following context information.\n",
        "\n",
        "{chunks_formatted}\n",
        "\n",
        "Answer to the following question from a customer. Use only information from the previous context information. Do not invent stuff.\n",
        "\n",
        "Question: {query}\n",
        "\n",
        "Answer:\"\"\"\n",
        "\n",
        "prompt = PromptTemplate(\n",
        "    input_variables=[\"chunks_formatted\", \"query\"],\n",
        "    template=template,\n",
        ")"
      ],
      "metadata": {
        "id": "vRPlsUCunNez"
      },
      "execution_count": 7,
      "outputs": []
    },
    {
      "cell_type": "markdown",
      "source": [
        "The template sets the chatbot's persona as an exceptional customer support chatbot. The template takes two input variables: `chunks_formatted`, which consists of the pre-formatted chunks from articles, and `query`, representing the customer's question. The objective is to generate an accurate answer using only the provided chunks without creating any false or invented information."
      ],
      "metadata": {
        "id": "2W1LHayindpZ"
      }
    },
    {
      "cell_type": "markdown",
      "source": [
        "### 3: Use the GPT3 model with a temperature of 0 for text generation\n",
        "To generate a response, we first retrieve the top-k (e.g., top-3) chunks most similar to the user query, format the prompt, and send the formatted prompt to the GPT3 model with a temperature of 0."
      ],
      "metadata": {
        "id": "NFtsSQ44nrJT"
      }
    },
    {
      "cell_type": "code",
      "source": [
        "# the full pipeline\n",
        "\n",
        "# user question\n",
        "query = \"How to check disk usage in linux?\"\n",
        "\n",
        "# retrieve relevant chunks\n",
        "docs = db.similarity_search(query)\n",
        "retrieved_chunks = [doc.page_content for doc in docs]\n",
        "\n",
        "# format the prompt\n",
        "chunks_formatted = \"\\n\\n\".join(retrieved_chunks)\n",
        "prompt_formatted = prompt.format(chunks_formatted=chunks_formatted, query=query)\n",
        "\n",
        "# generate answer\n",
        "llm = OpenAI(model=\"gpt-3.5-turbo-instruct\", temperature=0)\n",
        "answer = llm(prompt_formatted)\n",
        "print(answer)"
      ],
      "metadata": {
        "colab": {
          "base_uri": "https://localhost:8080/"
        },
        "id": "rBOoYJyknoCR",
        "outputId": "d91f4d21-f674-4643-93c7-5244995adbbb"
      },
      "execution_count": 8,
      "outputs": [
        {
          "output_type": "stream",
          "name": "stdout",
          "text": [
            " There are several methods to check disk usage in Linux. One of the most common methods is by using the df command, which stands for \"Disk Filesystem\". This command allows you to check the current disk usage and available disk space on your system. You can also use GUI tools such as the GDU Disk Usage Analyzer and the Gnome Disks Tool to monitor disk usage. Additionally, you can use the du command to display the disk usage for a specific directory or compare the disk usage of two directories. Finally, you can use a combination of commands to list out the files and directories occupying the most space and choose to delete them to free up storage space on your computer.\n"
          ]
        }
      ]
    }
  ]
}